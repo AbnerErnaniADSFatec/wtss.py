{
 "cells": [
  {
   "cell_type": "markdown",
   "metadata": {},
   "source": [
    "# Access and Visualization of Time Series with WTSS\n",
    "\n",
    "**WTSS** is a lightweight web service for handling remote sensing imagery as time series. Given a location and a time interval you can retrieve the according time series as a Python list of real values."
   ]
  },
  {
   "cell_type": "markdown",
   "metadata": {},
   "source": [
    "The WTSS interface provides three operations:\n",
    "- `list_coverages`: returns the list of all available coverages in the service.\n",
    "    \n",
    "- `describe_coverage`: returns the metadata of a given coverage.\n",
    "\n",
    "- `time_series`: query the database for the list of values for a given location and time interval."
   ]
  },
  {
   "cell_type": "markdown",
   "metadata": {},
   "source": [
    "## Python Client API\n",
    "\n",
    "For running the examples in this Jupyter Notebook you will need to install the [WTSS client for Python](https://github.com/brazil-data-cube/wtss.py). To install it from PyPI using pip, use the following command:"
   ]
  },
  {
   "cell_type": "code",
   "execution_count": 3,
   "metadata": {},
   "outputs": [
    {
     "name": "stdout",
     "output_type": "stream",
     "text": [
      "Processing /home/gribeiro/.cache/pip/wheels/eb/62/5d/4ec79a5541c32c72b985ede4eeecd276f43cfe88002ac9d8bf/wtss-0.5.0-py3-none-any.whl\n",
      "Installing collected packages: wtss\n",
      "Successfully installed wtss-0.5.0\n"
     ]
    }
   ],
   "source": [
    "!python -m pip install wtss"
   ]
  },
  {
   "cell_type": "markdown",
   "metadata": {},
   "source": [
    "In order to access the funcionalities of the client API, you should import the wtss package, as follows:"
   ]
  },
  {
   "cell_type": "code",
   "execution_count": 5,
   "metadata": {},
   "outputs": [],
   "source": [
    "from wtss import wtss"
   ]
  },
  {
   "cell_type": "markdown",
   "metadata": {},
   "source": [
    "After that, you should create a wtss object attached to a given service:"
   ]
  },
  {
   "cell_type": "code",
   "execution_count": 7,
   "metadata": {},
   "outputs": [],
   "source": [
    "client = wtss('http://www.esensing.dpi.inpe.br/')"
   ]
  },
  {
   "cell_type": "markdown",
   "metadata": {},
   "source": [
    "The above cell will create an object named `client` that will allow us to comunicate to the given WTSS service."
   ]
  },
  {
   "cell_type": "markdown",
   "metadata": {},
   "source": [
    "## Listing the Available Data Products\n",
    "\n",
    "The `list_coverages` operation allows the client to retrieve the capabilities provided by any server that implements WTSS. Or simply put, it returns a list of coverage names available in a server instance. The server response is a JSON document. The names returned by this operation can be used in subsequent operations."
   ]
  },
  {
   "cell_type": "code",
   "execution_count": 9,
   "metadata": {},
   "outputs": [],
   "source": [
    "coverages = client.list_coverages()"
   ]
  },
  {
   "cell_type": "code",
   "execution_count": 10,
   "metadata": {},
   "outputs": [
    {
     "data": {
      "text/plain": [
       "{'coverages': ['MOD13Q1', 'MOD13Q1_M']}"
      ]
     },
     "execution_count": 10,
     "metadata": {},
     "output_type": "execute_result"
    }
   ],
   "source": [
    "coverages"
   ]
  },
  {
   "cell_type": "markdown",
   "metadata": {},
   "source": [
    "##  Retrieving the Metadata of a Data Product\n",
    "\n",
    "The `describe_coverage` operation returns the metadata for a given coverage identified by its name. It includes its range in the spatial and temporal dimensions. It also receives a JSON document as a response."
   ]
  },
  {
   "cell_type": "code",
   "execution_count": 11,
   "metadata": {},
   "outputs": [
    {
     "data": {
      "text/plain": [
       "dict_keys(['name', 'description', 'detail', 'dimensions', 'spatial_extent', 'spatial_resolution', 'crs', 'timeline', 'attributes'])"
      ]
     },
     "execution_count": 11,
     "metadata": {},
     "output_type": "execute_result"
    }
   ],
   "source": [
    "coverage_metadata = client.describe_coverage('MOD13Q1')\n",
    "\n",
    "coverage_metadata.keys()"
   ]
  },
  {
   "cell_type": "markdown",
   "metadata": {},
   "source": [
    "If you want to access the coverage attribute name, you can use the `attributes` key, as shown below:"
   ]
  },
  {
   "cell_type": "code",
   "execution_count": 13,
   "metadata": {},
   "outputs": [
    {
     "data": {
      "text/plain": [
       "dict_keys(['mir', 'blue', 'nir', 'red', 'evi', 'ndvi'])"
      ]
     },
     "execution_count": 13,
     "metadata": {},
     "output_type": "execute_result"
    }
   ],
   "source": [
    "coverage_metadata[\"attributes\"].keys()"
   ]
  },
  {
   "cell_type": "markdown",
   "metadata": {},
   "source": [
    "The associated timeline can be accessed by the key `timeline`:"
   ]
  },
  {
   "cell_type": "code",
   "execution_count": 15,
   "metadata": {},
   "outputs": [
    {
     "name": "stdout",
     "output_type": "stream",
     "text": [
      "Interval range: [2000-02-18, 2019-09-30]\n"
     ]
    }
   ],
   "source": [
    "timeline = coverage_metadata['timeline']\n",
    "\n",
    "start = timeline[0]\n",
    "end = timeline[-1]\n",
    "\n",
    "print(f'Interval range: [{start}, {end}]')"
   ]
  },
  {
   "cell_type": "markdown",
   "metadata": {},
   "source": [
    "The cell code below shows the spatial extent:"
   ]
  },
  {
   "cell_type": "code",
   "execution_count": 16,
   "metadata": {},
   "outputs": [
    {
     "data": {
      "text/plain": [
       "{'xmin': -81.2341289433377,\n",
       " 'xmax': -29.9999999973059,\n",
       " 'ymin': -39.9999999964109,\n",
       " 'ymax': 9.99999999910497}"
      ]
     },
     "execution_count": 16,
     "metadata": {},
     "output_type": "execute_result"
    }
   ],
   "source": [
    "coverage_metadata['spatial_extent']"
   ]
  },
  {
   "cell_type": "markdown",
   "metadata": {},
   "source": [
    "## Retrieving the Time Series\n",
    "\n",
    "The `time_series` operation retrieves the values associated to the time series for a set of coverage attributes at a given location.\n",
    "\n",
    "The cell code below shows how to retrieve the values of the time series for the attribute `nir` from the `MOD13Q1` coverage."
   ]
  },
  {
   "cell_type": "code",
   "execution_count": 17,
   "metadata": {},
   "outputs": [],
   "source": [
    "time_series = client.time_series(\"MOD13Q1\", (\"nir\"), -12.0, -54.0, \"2018-01-01\", \"2018-12-31\")"
   ]
  },
  {
   "cell_type": "code",
   "execution_count": 21,
   "metadata": {},
   "outputs": [
    {
     "data": {
      "text/plain": [
       "[2328.0,\n",
       " 2548.0,\n",
       " 4123.0,\n",
       " 2039.0,\n",
       " 3764.0,\n",
       " 2474.0,\n",
       " 3189.0,\n",
       " 2549.0,\n",
       " 2563.0,\n",
       " 2652.0,\n",
       " 2647.0,\n",
       " 2726.0,\n",
       " 2657.0,\n",
       " 2725.0,\n",
       " 2842.0,\n",
       " 3170.0,\n",
       " 2684.0,\n",
       " 3461.0,\n",
       " 3284.0,\n",
       " 3865.0,\n",
       " 3561.0,\n",
       " 4174.0,\n",
       " 3425.0]"
      ]
     },
     "execution_count": 21,
     "metadata": {},
     "output_type": "execute_result"
    }
   ],
   "source": [
    "time_series.attributes[\"nir\"]"
   ]
  },
  {
   "cell_type": "markdown",
   "metadata": {},
   "source": [
    "The timeline is also avaible from the time series object:"
   ]
  },
  {
   "cell_type": "code",
   "execution_count": 20,
   "metadata": {},
   "outputs": [
    {
     "data": {
      "text/plain": [
       "[datetime.date(2018, 1, 1),\n",
       " datetime.date(2018, 1, 17),\n",
       " datetime.date(2018, 2, 2),\n",
       " datetime.date(2018, 2, 18),\n",
       " datetime.date(2018, 3, 6),\n",
       " datetime.date(2018, 3, 22),\n",
       " datetime.date(2018, 4, 7),\n",
       " datetime.date(2018, 4, 23),\n",
       " datetime.date(2018, 5, 9),\n",
       " datetime.date(2018, 5, 25),\n",
       " datetime.date(2018, 6, 10),\n",
       " datetime.date(2018, 6, 26),\n",
       " datetime.date(2018, 7, 12),\n",
       " datetime.date(2018, 7, 28),\n",
       " datetime.date(2018, 8, 13),\n",
       " datetime.date(2018, 8, 29),\n",
       " datetime.date(2018, 9, 14),\n",
       " datetime.date(2018, 9, 30),\n",
       " datetime.date(2018, 10, 16),\n",
       " datetime.date(2018, 11, 1),\n",
       " datetime.date(2018, 11, 17),\n",
       " datetime.date(2018, 12, 3),\n",
       " datetime.date(2018, 12, 19)]"
      ]
     },
     "execution_count": 20,
     "metadata": {},
     "output_type": "execute_result"
    }
   ],
   "source": [
    "time_series.timeline"
   ]
  },
  {
   "cell_type": "markdown",
   "metadata": {},
   "source": [
    "## Visualizing the Time Series with Matplotlib"
   ]
  },
  {
   "cell_type": "code",
   "execution_count": null,
   "metadata": {},
   "outputs": [],
   "source": []
  },
  {
   "cell_type": "code",
   "execution_count": 8,
   "metadata": {},
   "outputs": [],
   "source": [
    "## Get x and y axis\n",
    "x = [ str(date) for date in timeSeries.timeline ]\n",
    "y = timeSeries.attributes[\"nir\"]"
   ]
  },
  {
   "cell_type": "code",
   "execution_count": 10,
   "metadata": {},
   "outputs": [
    {
     "data": {
      "image/png": "[encoded data removed]",
      "text/plain": [
       "<Figure size 432x288 with 1 Axes>"
      ]
     },
     "metadata": {
      "needs_background": "light"
     },
     "output_type": "display_data"
    }
   ],
   "source": [
    "## Plotting the line chart with matplotlib\n",
    "import numpy as np\n",
    "import matplotlib.pyplot as plt\n",
    "low_memory = False\n",
    "\n",
    "fig, ax = plt.subplots()\n",
    "ax.plot(x, y, color = \"green\")\n",
    "plt.scatter(x, y, color = \"blue\")\n",
    "\n",
    "plt.title(\"Time Series Line Chart\\ncoverage MOD13Q1 band NIR\")\n",
    "\n",
    "plt.xlabel(\"Time Line\")\n",
    "plt.xticks(np.arange(0, len(x), step = 5.0))\n",
    "\n",
    "plt.ylabel(\"NIR\")\n",
    "\n",
    "plt.autoscale()\n",
    "plt.tight_layout()\n",
    "\n",
    "plt.savefig(\"time_series_MOD13Q1_nir.png\", bbox_inches = \"tight\")\n",
    "\n",
    "plt.grid(linestyle = ':')\n",
    "\n",
    "plt.show()"
   ]
  }
 ],
 "metadata": {
  "kernelspec": {
   "display_name": "Python [conda env:geospatial] *",
   "language": "python",
   "name": "conda-env-geospatial-py"
  },
  "language_info": {
   "codemirror_mode": {
    "name": "ipython",
    "version": 3
   },
   "file_extension": ".py",
   "mimetype": "text/x-python",
   "name": "python",
   "nbconvert_exporter": "python",
   "pygments_lexer": "ipython3",
   "version": "3.7.6"
  }
 },
 "nbformat": 4,
 "nbformat_minor": 4
}
